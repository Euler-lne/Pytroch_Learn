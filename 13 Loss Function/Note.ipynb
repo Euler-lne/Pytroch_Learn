{
 "cells": [
  {
   "cell_type": "markdown",
   "metadata": {},
   "source": [
    "# 损失函数和反向传播\n",
    "\n",
    "![1.png](1.png)"
   ]
  },
  {
   "cell_type": "markdown",
   "metadata": {},
   "source": [
    "### 直接相减"
   ]
  },
  {
   "cell_type": "code",
   "execution_count": 2,
   "metadata": {},
   "outputs": [
    {
     "data": {
      "text/plain": [
       "tensor(0.6667)"
      ]
     },
     "execution_count": 2,
     "metadata": {},
     "output_type": "execute_result"
    }
   ],
   "source": [
    "import torch\n",
    "from torch import nn\n",
    "\n",
    "inputs = torch.tensor([1, 2, 3], dtype=torch.float32)\n",
    "outputs = torch.tensor([1, 2, 5], dtype=torch.float32)\n",
    "\n",
    "inputs = torch.reshape(inputs, (1, 1, 1, 3))\n",
    "outputs = torch.reshape(outputs, (1, 1, 1, 3))\n",
    "\n",
    "loss1 = nn.L1Loss()\n",
    "result = loss1(inputs, outputs)\n",
    "\n",
    "result\n"
   ]
  },
  {
   "cell_type": "markdown",
   "metadata": {},
   "source": [
    "### 平方差"
   ]
  },
  {
   "cell_type": "code",
   "execution_count": 4,
   "metadata": {},
   "outputs": [
    {
     "data": {
      "text/plain": [
       "tensor(1.3333)"
      ]
     },
     "execution_count": 4,
     "metadata": {},
     "output_type": "execute_result"
    }
   ],
   "source": [
    "loss2 = nn.MSELoss()\n",
    "result = loss2(inputs, outputs)\n",
    "result"
   ]
  },
  {
   "cell_type": "markdown",
   "metadata": {},
   "source": [
    "### 交叉熵\n",
    "\n",
    "* class的意思是目标的意思下图为狗\n",
    "\n",
    "![image.png](2.png)"
   ]
  },
  {
   "cell_type": "code",
   "execution_count": 5,
   "metadata": {},
   "outputs": [
    {
     "data": {
      "text/plain": [
       "tensor(1.1019)"
      ]
     },
     "execution_count": 5,
     "metadata": {},
     "output_type": "execute_result"
    }
   ],
   "source": [
    "x = torch.tensor([0.1, 0.2, 0.3])\n",
    "y = torch.tensor([1])\n",
    "x = torch.reshape(x, (1, 3))\n",
    "loss3 = nn.CrossEntropyLoss()\n",
    "result = loss3(x, y)\n",
    "result"
   ]
  },
  {
   "cell_type": "code",
   "execution_count": 6,
   "metadata": {},
   "outputs": [],
   "source": [
    "import torchvision\n",
    "from torch.utils.data import DataLoader\n",
    "\n",
    "dataset = torchvision.datasets.CIFAR10(\n",
    "    \"../5 Dataset Transfrom/dataset\",\n",
    "    train=False,\n",
    "    download=False,\n",
    "    transform=torchvision.transforms.ToTensor())\n",
    "\n",
    "dataloader = DataLoader(dataset=dataset, batch_size=64)\n",
    "\n",
    "\n",
    "class Euler(nn.Module):\n",
    "\n",
    "    def __init__(self, *args, **kwargs) -> None:\n",
    "        super().__init__(*args, **kwargs)\n",
    "\n",
    "        self.model1 = nn.Sequential(nn.Conv2d(3, 32, 5, padding=2),\n",
    "                                    nn.MaxPool2d(2),\n",
    "                                    nn.Conv2d(32, 32, 5, padding=2),\n",
    "                                    nn.MaxPool2d(2),\n",
    "                                    nn.Conv2d(32, 64, 5, padding=2),\n",
    "                                    nn.MaxPool2d(2), nn.Flatten(),\n",
    "                                    nn.Linear(1024, 64), nn.Linear(64, 10))\n",
    "\n",
    "    def forward(self, x):\n",
    "        x = self.model1(x)\n",
    "        return x\n",
    "\n",
    "\n",
    "euler = Euler()\n",
    "for data in dataloader:\n",
    "    imgs, target = data\n",
    "    outputs = euler(imgs)\n",
    "    result_loss = loss3(outputs,target)\n",
    "    result_loss.backward()\n"
   ]
  }
 ],
 "metadata": {
  "kernelspec": {
   "display_name": "Python 3",
   "language": "python",
   "name": "python3"
  },
  "language_info": {
   "codemirror_mode": {
    "name": "ipython",
    "version": 3
   },
   "file_extension": ".py",
   "mimetype": "text/x-python",
   "name": "python",
   "nbconvert_exporter": "python",
   "pygments_lexer": "ipython3",
   "version": "3.11.1"
  },
  "orig_nbformat": 4
 },
 "nbformat": 4,
 "nbformat_minor": 2
}
