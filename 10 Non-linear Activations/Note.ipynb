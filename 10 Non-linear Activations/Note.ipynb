{
 "cells": [
  {
   "cell_type": "markdown",
   "metadata": {},
   "source": [
    "# 非线性激活（给网络添加非线性特征，更加拟合曲线）\n",
    "![image.png](1.png)\n",
    "\n",
    "https://pytorch.org/docs/stable/nn.html\n",
    "### 激活函数\n",
    "* RELU（小于0的为0，大于0的为他本身）\n",
    "\n",
    "![2.png](2.png)\n",
    "\n",
    "*  Sigmoid\n",
    "\n",
    "![3.png](3.png)\n"
   ]
  },
  {
   "cell_type": "code",
   "execution_count": 7,
   "metadata": {},
   "outputs": [
    {
     "data": {
      "text/plain": [
       "tensor([[[[ 1.0000, -0.5000],\n",
       "          [-1.0000,  3.0000]]]])"
      ]
     },
     "execution_count": 7,
     "metadata": {},
     "output_type": "execute_result"
    }
   ],
   "source": [
    "import torch\n",
    "from torch import nn\n",
    "input = torch.tensor([[1,-0.5],\n",
    "                      [-1,3]])\n",
    "# 要转换为4维的\n",
    "input = torch.reshape(input, (-1, 1, 2, 2))\n",
    "input"
   ]
  },
  {
   "cell_type": "markdown",
   "metadata": {},
   "source": [
    "* ReLU中的replace参数（为TRUE则对原始数进行替换，否则就返回到一个新的数据中，默认为False）\n",
    "\n",
    "![4.png](4.png)"
   ]
  },
  {
   "cell_type": "code",
   "execution_count": 14,
   "metadata": {},
   "outputs": [],
   "source": [
    "from torch.nn import ReLU\n",
    "from torch.nn import Sigmoid\n",
    "class MyModule(nn.Module):\n",
    "    def __init__(self, *args, **kwargs) -> None:\n",
    "        super().__init__(*args, **kwargs)\n",
    "        self.relu1 = ReLU()\n",
    "        self.sigmoid1 = Sigmoid()\n",
    "    def forward(self,input):\n",
    "        output = self.sigmoid1(input)\n",
    "        return output"
   ]
  },
  {
   "cell_type": "code",
   "execution_count": 1,
   "metadata": {},
   "outputs": [
    {
     "ename": "NameError",
     "evalue": "name 'MyModule' is not defined",
     "output_type": "error",
     "traceback": [
      "\u001b[1;31m---------------------------------------------------------------------------\u001b[0m",
      "\u001b[1;31mNameError\u001b[0m                                 Traceback (most recent call last)",
      "Cell \u001b[1;32mIn[1], line 1\u001b[0m\n\u001b[1;32m----> 1\u001b[0m myModule \u001b[39m=\u001b[39m MyModule()\n\u001b[0;32m      2\u001b[0m output \u001b[39m=\u001b[39m myModule(\u001b[39minput\u001b[39m)\n\u001b[0;32m      3\u001b[0m output\n",
      "\u001b[1;31mNameError\u001b[0m: name 'MyModule' is not defined"
     ]
    }
   ],
   "source": [
    "myModule = MyModule()\n",
    "output = myModule(input)\n",
    "output"
   ]
  },
  {
   "cell_type": "code",
   "execution_count": 17,
   "metadata": {},
   "outputs": [],
   "source": [
    "import torchvision\n",
    "from torch.utils.data import DataLoader\n",
    "from torch.utils.tensorboard import SummaryWriter\n",
    "\n",
    "dataset = torchvision.datasets.CIFAR10(\"../5 Dataset Transfrom/dataset\",train=False,\n",
    "                                       download=False,transform=torchvision.transforms.ToTensor())\n",
    "dataloader = DataLoader(dataset,batch_size=64)\n",
    "\n",
    "writer = SummaryWriter(\"./logs\")\n",
    "\n",
    "step = 0\n",
    "for data in dataloader:\n",
    "    imgs, targets = data\n",
    "    writer.add_images(\"imput\",imgs,global_step=step)\n",
    "    step = step + 1\n",
    "    output = myModule(imgs)\n",
    "    writer.add_images(\"output\",output,step)\n",
    "\n",
    "writer.close()\n"
   ]
  },
  {
   "cell_type": "markdown",
   "metadata": {},
   "source": [
    "![5.png](5.png)"
   ]
  }
 ],
 "metadata": {
  "kernelspec": {
   "display_name": "Python 3",
   "language": "python",
   "name": "python3"
  },
  "language_info": {
   "codemirror_mode": {
    "name": "ipython",
    "version": 3
   },
   "file_extension": ".py",
   "mimetype": "text/x-python",
   "name": "python",
   "nbconvert_exporter": "python",
   "pygments_lexer": "ipython3",
   "version": "3.11.1"
  },
  "orig_nbformat": 4
 },
 "nbformat": 4,
 "nbformat_minor": 2
}
