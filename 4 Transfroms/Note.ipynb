{
 "cells": [
  {
   "cell_type": "markdown",
   "metadata": {},
   "source": [
    "# 常见的Transfroms\n",
    "* 输入：各种图片类型   \n",
    "* 输出：tensor\n",
    "* 作用：\n",
    "  * Totensor()\n",
    "  * Normalize()\n",
    "  * Resize()\n",
    "  * Compose()\n",
    "```py\n",
    "# PIL\n",
    "Image.open()\n",
    "# narrys\n",
    "cv.imread()    \n",
    "# tensor\n",
    "ToTensor()\n",
    "```"
   ]
  },
  {
   "cell_type": "code",
   "execution_count": 14,
   "metadata": {},
   "outputs": [],
   "source": [
    "from PIL import Image\n",
    "img = Image.open(\"/Work/Program/Python/DeepLearning/PyTorch/Study/3 Transfroms/1.png\")"
   ]
  },
  {
   "cell_type": "markdown",
   "metadata": {},
   "source": [
    "```py\n",
    "class Person(object):\n",
    "    def __init__(self, name, gender):\n",
    "        self.name = name\n",
    "        self.gender = gender\n",
    "\n",
    "    def __call__(self, friend):\n",
    "        print('My name is %s...' % self.name)\n",
    "        print('My friend is %s...' % friend)\n",
    "p = Person('Bob', 'male')\n",
    "p('Tim') # 此时调用__call__\n",
    "```"
   ]
  },
  {
   "cell_type": "markdown",
   "metadata": {},
   "source": [
    "# ToTensor() 类"
   ]
  },
  {
   "cell_type": "code",
   "execution_count": 15,
   "metadata": {},
   "outputs": [],
   "source": [
    "from torchvision import transforms\n",
    "trans_totensor = transforms.ToTensor()\n",
    "img_tensor = trans_totensor(img)"
   ]
  },
  {
   "cell_type": "code",
   "execution_count": 16,
   "metadata": {},
   "outputs": [],
   "source": [
    "from torch.utils.tensorboard import SummaryWriter\n",
    "\n",
    "writer = SummaryWriter(\n",
    "    \"/Work/Program/Python/DeepLearning/PyTorch/Study/4 Transfroms/logs\")\n",
    "writer.add_image(\"Totenser\", img_tensor)\n",
    "writer.close()"
   ]
  },
  {
   "cell_type": "markdown",
   "metadata": {},
   "source": [
    "# Normalize() 类\n",
    "* 需要提供均值和标准差\n",
    "* 把每个参数固定到各自的参数范围\n",
    "```py\n",
    "transforms.Normalize([0.5, 0.5, 0.5], [0.5, 0.5, 0.5])\n",
    " \"\"\"Normalize a tensor image with mean and standard deviation.\n",
    "    This transform does not support PIL Image.\n",
    "    Given mean: ``(mean[1],...,mean[n])`` and std: ``(std[1],..,std[n])`` for ``n``\n",
    "    channels, this transform will normalize each channel of the input\n",
    "    ``torch.*Tensor`` i.e.,\n",
    "    ``output[channel] = (input[channel] - mean[channel]) / std[channel]``\n",
    "\n",
    "    .. note::\n",
    "        This transform acts out of place, i.e., it does not mutate the input tensor.\n",
    "\n",
    "    Args:\n",
    "        mean (sequence): Sequence of means for each channel.\n",
    "        std (sequence): Sequence of standard deviations for each channel.\n",
    "        inplace(bool,optional): Bool to make this operation in-place.\n",
    "\n",
    "\"\"\"\n",
    "```\n",
    "* 因为 PyTorch 中的大部分方法都继承自 torch.nn.Module，而 torch.nn.Module 的__call__(self)函数中会返回 forward()函数 的结果，因此PyTroch中的 forward()函数等于是被嵌套在了__call__(self)函数中；因此forward()函数可以直接通过类名被调用，而不用实例化对象"
   ]
  },
  {
   "cell_type": "code",
   "execution_count": 17,
   "metadata": {},
   "outputs": [],
   "source": [
    "trans_norm = transforms.Normalize([0.5, 0.5, 0.5], [0.5, 0.5, 0.5])\n",
    "img_norm = trans_norm(img_tensor)"
   ]
  },
  {
   "cell_type": "code",
   "execution_count": 18,
   "metadata": {},
   "outputs": [],
   "source": [
    "writer.add_image(\"Normalize\", img_norm)\n",
    "writer.close()"
   ]
  },
  {
   "cell_type": "markdown",
   "metadata": {},
   "source": [
    "# Resize() 类\n",
    "* 返回类型是PIL\n",
    "* 传入比例或者是长宽"
   ]
  },
  {
   "cell_type": "code",
   "execution_count": 19,
   "metadata": {},
   "outputs": [],
   "source": [
    "trans_resize = transforms.Resize((512,512))\n",
    "# PIL\n",
    "img_resize = trans_resize(img)\n",
    "# PIL\n",
    "img_resize = trans_totensor(img_resize)\n",
    "# tensor"
   ]
  },
  {
   "cell_type": "code",
   "execution_count": 20,
   "metadata": {},
   "outputs": [],
   "source": [
    "writer.add_image(\"Resize\", img_resize)\n",
    "writer.close()"
   ]
  },
  {
   "cell_type": "markdown",
   "metadata": {},
   "source": [
    "# Compose() 类\n",
    "* 类似于链式法则"
   ]
  },
  {
   "cell_type": "code",
   "execution_count": null,
   "metadata": {},
   "outputs": [],
   "source": [
    "trans_resize_2 = transforms.Resize(512) \n",
    "# PIL -> PIL -> tensor\n",
    "trans_compose = transforms.Compose([trans_resize_2,trans_totensor])\n",
    "img_resize_2 = trans_compose(img)"
   ]
  },
  {
   "cell_type": "markdown",
   "metadata": {},
   "source": [
    "# RandomCrop() 类 随机裁剪\n",
    "* 传入比例或者是长宽"
   ]
  },
  {
   "cell_type": "code",
   "execution_count": 21,
   "metadata": {},
   "outputs": [],
   "source": [
    "trans_random = transforms.RandomCrop(512)\n",
    "trans_compose_2 = transforms.Compose([trans_random,trans_totensor])\n",
    "for i in range(10):\n",
    "    img_crop = trans_compose_2(img)\n",
    "    writer.add_image(\"RandomCrop\",img_crop,i)\n",
    "\n",
    "writer.close()"
   ]
  },
  {
   "cell_type": "markdown",
   "metadata": {},
   "source": [
    "# 注意输入输出类型"
   ]
  }
 ],
 "metadata": {
  "kernelspec": {
   "display_name": "Python 3",
   "language": "python",
   "name": "python3"
  },
  "language_info": {
   "codemirror_mode": {
    "name": "ipython",
    "version": 3
   },
   "file_extension": ".py",
   "mimetype": "text/x-python",
   "name": "python",
   "nbconvert_exporter": "python",
   "pygments_lexer": "ipython3",
   "version": "3.11.1"
  },
  "orig_nbformat": 4
 },
 "nbformat": 4,
 "nbformat_minor": 2
}
