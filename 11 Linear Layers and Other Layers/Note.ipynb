{
 "cells": [
  {
   "cell_type": "markdown",
   "metadata": {},
   "source": [
    "# 线性层及其他层\n",
    "https://pytorch.org/docs/stable/nn.html\n",
    "* Normalization Layers（正则化层）\n",
    "https://pytorch.org/docs/stable/generated/torch.nn.BatchNorm2d.html#torch.nn.BatchNorm2d\n",
    "  * 对输入采用正则化，可以加快对神经网络的训练速度\n",
    "* Recurrent Layers\n",
    "* Transfromer Layers\n",
    "* Linear Layers（线性层）\n",
    "  \n",
    "![1.png](1.png)\n",
    "![3.png](3.png)\n",
    "\n",
    "* Dropout Layers\n",
    "  * 防止过拟合\n",
    "* Sparse Layers\n",
    "  * 主要用于自然语言处理\n",
    "* Distance Functions\n",
    "  * 主要用于计算两个值之间的误差是通过什么样的方式去衡量的\n",
    "* Loss Functions\n",
    "\n",
    "# 网络\n",
    "\n",
    "![2.png](2.png)"
   ]
  },
  {
   "cell_type": "code",
   "execution_count": 10,
   "metadata": {},
   "outputs": [],
   "source": [
    "# 线性层，作用变换特征维度\n",
    "import torch\n",
    "import torchvision\n",
    "from torch.utils.data import DataLoader\n",
    "\n",
    "dataset = torchvision.datasets.CIFAR10(\n",
    "    \"../5 Dataset Transfrom/dataset\",\n",
    "    train=False,\n",
    "    download=False,\n",
    "    transform=torchvision.transforms.ToTensor())\n",
    "\n",
    "dataloader = DataLoader(dataset,batch_size=64,drop_last=True)\n"
   ]
  },
  {
   "cell_type": "code",
   "execution_count": 11,
   "metadata": {},
   "outputs": [],
   "source": [
    "from torch import nn\n",
    "from torch.nn import Linear\n",
    "\n",
    "\n",
    "class MyModule(nn.Module):\n",
    "\n",
    "    def __init__(self, *args, **kwargs) -> None:\n",
    "        super().__init__(*args, **kwargs)\n",
    "        self.linear1 = Linear(196608, 10)\n",
    "    \n",
    "    def forward(self,input):\n",
    "        output = self.linear1(input)\n",
    "        return output\n",
    "\n",
    "myModule = MyModule()\n"
   ]
  },
  {
   "cell_type": "code",
   "execution_count": 14,
   "metadata": {},
   "outputs": [],
   "source": [
    "for data in dataloader:\n",
    "    imgs, targets = data\n",
    "    # output = torch.reshape(imgs, (1, 1, 1, -1))\n",
    "    output = torch.flatten(imgs)  #把输入变成一行\n",
    "    output = myModule(output)\n",
    "    '''\n",
    "    torch.Size([64, 3, 32, 32])\n",
    "    torch.Size([1, 1, 1, 196608])\n",
    "    torch.Size([1, 1, 1, 10])\n",
    "    '''\n"
   ]
  }
 ],
 "metadata": {
  "kernelspec": {
   "display_name": "Python 3",
   "language": "python",
   "name": "python3"
  },
  "language_info": {
   "codemirror_mode": {
    "name": "ipython",
    "version": 3
   },
   "file_extension": ".py",
   "mimetype": "text/x-python",
   "name": "python",
   "nbconvert_exporter": "python",
   "pygments_lexer": "ipython3",
   "version": "3.11.1"
  },
  "orig_nbformat": 4
 },
 "nbformat": 4,
 "nbformat_minor": 2
}
