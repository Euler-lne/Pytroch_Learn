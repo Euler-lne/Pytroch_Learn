{
 "cells": [
  {
   "cell_type": "markdown",
   "metadata": {},
   "source": [
    "# 优化器\n",
    "https://pytorch.org/docs/stable/optim.html?highlight=opti#module-torch.optim\n",
    "* 实例\n",
    "```PY\n",
    "for input, target in dataset:\n",
    "    optimizer.zero_grad()           # 对上一步的梯度清零\n",
    "    output = model(input)\n",
    "    loss = loss_fn(output, target)\n",
    "    loss.backward()\n",
    "    optimizer.step()\n",
    "```"
   ]
  },
  {
   "cell_type": "code",
   "execution_count": 8,
   "metadata": {},
   "outputs": [
    {
     "name": "stdout",
     "output_type": "stream",
     "text": [
      "tensor(360.4184, grad_fn=<AddBackward0>)\n",
      "tensor(357.0262, grad_fn=<AddBackward0>)\n",
      "tensor(342.5874, grad_fn=<AddBackward0>)\n",
      "tensor(322.1330, grad_fn=<AddBackward0>)\n",
      "tensor(313.9444, grad_fn=<AddBackward0>)\n",
      "tensor(306.7350, grad_fn=<AddBackward0>)\n",
      "tensor(298.0123, grad_fn=<AddBackward0>)\n",
      "tensor(290.7597, grad_fn=<AddBackward0>)\n",
      "tensor(284.2967, grad_fn=<AddBackward0>)\n",
      "tensor(278.0417, grad_fn=<AddBackward0>)\n",
      "tensor(272.3223, grad_fn=<AddBackward0>)\n",
      "tensor(267.1188, grad_fn=<AddBackward0>)\n",
      "tensor(262.2226, grad_fn=<AddBackward0>)\n",
      "tensor(257.4690, grad_fn=<AddBackward0>)\n",
      "tensor(252.8730, grad_fn=<AddBackward0>)\n",
      "tensor(248.5526, grad_fn=<AddBackward0>)\n",
      "tensor(244.5453, grad_fn=<AddBackward0>)\n",
      "tensor(240.7553, grad_fn=<AddBackward0>)\n",
      "tensor(237.1313, grad_fn=<AddBackward0>)\n",
      "tensor(233.6390, grad_fn=<AddBackward0>)\n"
     ]
    }
   ],
   "source": [
    "import torch\n",
    "from torch import nn\n",
    "import torchvision\n",
    "from torch.utils.data import DataLoader\n",
    "\n",
    "dataset = torchvision.datasets.CIFAR10(\n",
    "    \"../5 Dataset Transfrom/dataset\",\n",
    "    train=False,\n",
    "    download=False,\n",
    "    transform=torchvision.transforms.ToTensor())\n",
    "\n",
    "dataloader = DataLoader(dataset=dataset, batch_size=64)\n",
    "\n",
    "\n",
    "class Euler(nn.Module):\n",
    "\n",
    "    def __init__(self, *args, **kwargs) -> None:\n",
    "        super().__init__(*args, **kwargs)\n",
    "\n",
    "        self.model1 = nn.Sequential(nn.Conv2d(3, 32, 5, padding=2),\n",
    "                                    nn.MaxPool2d(2),\n",
    "                                    nn.Conv2d(32, 32, 5, padding=2),\n",
    "                                    nn.MaxPool2d(2),\n",
    "                                    nn.Conv2d(32, 64, 5, padding=2),\n",
    "                                    nn.MaxPool2d(2), nn.Flatten(),\n",
    "                                    nn.Linear(1024, 64), nn.Linear(64, 10))\n",
    "\n",
    "    def forward(self, x):\n",
    "        x = self.model1(x)\n",
    "        return x\n",
    "\n",
    "\n",
    "euler = Euler()\n",
    "loss = nn.CrossEntropyLoss()\n",
    "optim = torch.optim.SGD(euler.parameters(), lr=0.01)  #第一个参数为网络模型，第二个参数为学习速率\n",
    "for epoch in range(20):\n",
    "    # 训练20 次\n",
    "    running_loss = 0.0\n",
    "    for data in dataloader:\n",
    "        imgs, targets = data\n",
    "        outputs = euler(imgs)\n",
    "        result_loss = loss(outputs,targets)\n",
    "        optim.zero_grad()\n",
    "        result_loss.backward()\n",
    "        optim.step()\n",
    "        running_loss = result_loss + running_loss\n",
    "    print(running_loss)"
   ]
  }
 ],
 "metadata": {
  "kernelspec": {
   "display_name": "Python 3",
   "language": "python",
   "name": "python3"
  },
  "language_info": {
   "codemirror_mode": {
    "name": "ipython",
    "version": 3
   },
   "file_extension": ".py",
   "mimetype": "text/x-python",
   "name": "python",
   "nbconvert_exporter": "python",
   "pygments_lexer": "ipython3",
   "version": "3.11.1"
  },
  "orig_nbformat": 4
 },
 "nbformat": 4,
 "nbformat_minor": 2
}
