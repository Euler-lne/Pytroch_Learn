{
 "cells": [
  {
   "cell_type": "markdown",
   "metadata": {},
   "source": [
    "# 神经网络———卷积层\n",
    "* 官网链接 https://pytorch.org/docs/stable/generated/torch.nn.Conv2d.html#torch.nn.Conv2d\n",
    "### 参数\n",
    "![image.png](1.png)\n",
    "* in_channels(int)：传入图片的通道数，例如rgb……\n",
    "* out_channels(int)：输出图片的通道数，和卷积＆个数相同\n",
    "* kernel_sise(int or tuple)：卷积核的大小，例如3，代表3*3的卷积核。其值会随着训练改变。\n",
    "* stride(int or tuple, optional)：卷积核在原始图像上的步数\n",
    "* paddding(int, tuple or str, optional)：为输入图片添加边界\n",
    "* padding_mode(str, optional)：'zeros', 'reflect', 'replicate' or 'circular'（默认为0）\n",
    "* dilation(int or tuple, optional)：\n",
    "* groups(int, optional)：\n",
    "* bias(bool, optional)：是否添加偏置数（默认为True）\n",
    "![image.png](2.png)\n",
    "![3.png](3.png)"
   ]
  },
  {
   "cell_type": "code",
   "execution_count": 3,
   "metadata": {},
   "outputs": [
    {
     "name": "stdout",
     "output_type": "stream",
     "text": [
      "Files already downloaded and verified\n"
     ]
    }
   ],
   "source": [
    "import torch\n",
    "import torchvision\n",
    "# 得到数据集\n",
    "dataset = torchvision.datasets.CIFAR10(\"./data/\",train=False,transform=torchvision.transforms.ToTensor(),download=True)"
   ]
  },
  {
   "cell_type": "code",
   "execution_count": 4,
   "metadata": {},
   "outputs": [],
   "source": [
    "# 数据加载到神经网络\n",
    "from torch.utils.data import DataLoader\n",
    "\n",
    "dataLoader = DataLoader(dataset=dataset,batch_size=64)"
   ]
  },
  {
   "cell_type": "code",
   "execution_count": 5,
   "metadata": {},
   "outputs": [],
   "source": [
    "from torch import nn\n",
    "from torch.nn import Conv2d\n",
    "class MyModule(nn.Module):\n",
    "    def __init__(self, *args, **kwargs) -> None:\n",
    "        super().__init__(*args, **kwargs)\n",
    "        # 为网络中设计一个卷积层\n",
    "        self.conv1 = Conv2d(in_channels=3,out_channels=6,kernel_size=3,stride=1,padding=0)\n",
    "    def forward(self,x):\n",
    "        x = self.conv1(x)\n",
    "        return x"
   ]
  },
  {
   "cell_type": "code",
   "execution_count": 6,
   "metadata": {},
   "outputs": [
    {
     "name": "stdout",
     "output_type": "stream",
     "text": [
      "MyModule(\n",
      "  (conv1): Conv2d(3, 6, kernel_size=(3, 3), stride=(1, 1))\n",
      ")\n"
     ]
    }
   ],
   "source": [
    "myModule = MyModule()\n",
    "print(myModule)"
   ]
  },
  {
   "cell_type": "code",
   "execution_count": 24,
   "metadata": {},
   "outputs": [],
   "source": [
    "from torch.utils.tensorboard import SummaryWriter\n",
    "writer = SummaryWriter(\"./logs\")\n",
    "step = 0\n",
    "for data in dataLoader:\n",
    "    imgs,targets = data\n",
    "    # imgs.shape([64,3,32,32])\n",
    "    output = myModule(imgs)\n",
    "    # output.shape([64,6,30,30])->[xxx,3,30,30]，一定要是3通道\n",
    "    writer.add_images(\"input\",imgs,step)\n",
    "    output = torch.reshape(output,(-1,3,30,30))# -1代表第一个参数自适应\n",
    "    writer.add_images(\"output\",output,step)\n",
    "    step = step + 1"
   ]
  },
  {
   "cell_type": "markdown",
   "metadata": {},
   "source": [
    "![image.png](4.png)"
   ]
  }
 ],
 "metadata": {
  "kernelspec": {
   "display_name": "Python 3",
   "language": "python",
   "name": "python3"
  },
  "language_info": {
   "codemirror_mode": {
    "name": "ipython",
    "version": 3
   },
   "file_extension": ".py",
   "mimetype": "text/x-python",
   "name": "python",
   "nbconvert_exporter": "python",
   "pygments_lexer": "ipython3",
   "version": "3.11.2"
  },
  "orig_nbformat": 4
 },
 "nbformat": 4,
 "nbformat_minor": 2
}
