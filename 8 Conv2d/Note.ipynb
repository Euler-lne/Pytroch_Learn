{
 "cells": [
  {
   "cell_type": "markdown",
   "metadata": {},
   "source": [
    "# 神经网络———卷积层\n",
    "* 官网链接 https://pytorch.org/docs/stable/generated/torch.nn.Conv2d.html#torch.nn.Conv2d\n",
    "### 参数\n",
    "![image.png](1.png)\n",
    "* in_channels(int)：传入图片的通道数，例如rgb……\n",
    "* out_channels(int)：输出图片的通道数，和卷积核个数相同\n",
    "* kernel_sise(int or tuple)：卷积核的大小，例如3，代表3*3的卷积核。其值会随着训练改变。\n",
    "* stride(int or tuple, optional)：卷积核在原始图像上的步数\n",
    "* paddding(int, tuple or str, optional)：为输入图片添加边界\n",
    "* padding_mode(str, optional)：'zeros', 'reflect', 'replicate' or 'circular'（默认为0）\n",
    "* dilation(int or tuple, optional)：\n",
    "* groups(int, optional)：\n",
    "* bias(bool, optional)：是否添加偏置数（默认为True）\n",
    "![image.png](2.png)\n",
    "![3.png](3.png)"
   ]
  },
  {
   "cell_type": "code",
   "execution_count": 3,
   "metadata": {},
   "outputs": [
    {
     "name": "stdout",
     "output_type": "stream",
     "text": [
      "Files already downloaded and verified\n"
     ]
    }
   ],
   "source": [
    "import torch\n",
    "import torchvision\n",
    "# 得到数据集\n",
    "dataset = torchvision.datasets.CIFAR10(\"./data/\",train=False,transform=torchvision.transforms.ToTensor(),download=True)"
   ]
  },
  {
   "cell_type": "code",
   "execution_count": 4,
   "metadata": {},
   "outputs": [],
   "source": [
    "# 数据加载到神经网络\n",
    "from torch.utils.data import DataLoader\n",
    "\n",
    "dataLoader = DataLoader(dataset=dataset,batch_size=64)"
   ]
  },
  {
   "cell_type": "code",
   "execution_count": 5,
   "metadata": {},
   "outputs": [],
   "source": [
    "from torch import nn\n",
    "from torch.nn import Conv2d\n",
    "class MyModule(nn.Module):\n",
    "    def __init__(self, *args, **kwargs) -> None:\n",
    "        super().__init__(*args, **kwargs)\n",
    "        # 为网络中设计一个卷积层\n",
    "        self.conv1 = Conv2d(in_channels=3,out_channels=6,kernel_size=3,stride=1,padding=0)\n",
    "    def forward(self,x):\n",
    "        x = self.conv1(x)\n",
    "        return x"
   ]
  },
  {
   "cell_type": "code",
   "execution_count": 6,
   "metadata": {},
   "outputs": [
    {
     "name": "stdout",
     "output_type": "stream",
     "text": [
      "MyModule(\n",
      "  (conv1): Conv2d(3, 6, kernel_size=(3, 3), stride=(1, 1))\n",
      ")\n"
     ]
    }
   ],
   "source": [
    "myModule = MyModule()\n",
    "print(myModule)"
   ]
  },
  {
   "cell_type": "code",
   "execution_count": 24,
   "metadata": {},
   "outputs": [],
   "source": [
    "from torch.utils.tensorboard import SummaryWriter\n",
    "writer = SummaryWriter(\"./logs\")\n",
    "step = 0\n",
    "for data in dataLoader:\n",
    "    imgs,targets = data\n",
    "    # imgs.shape([64,3,32,32])\n",
    "    output = myModule(imgs)\n",
    "    # output.shape([64,6,30,30])->[xxx,3,30,30]，一定要是3通道\n",
    "    writer.add_images(\"input\",imgs,step)\n",
    "    output = torch.reshape(output,(-1,3,30,30))# -1代表第一个参数自适应\n",
    "    writer.add_images(\"output\",output,step)\n",
    "    step = step + 1"
   ]
  },
  {
   "cell_type": "markdown",
   "metadata": {},
   "source": [
    "![image.png](4.png)"
   ]
  },
  {
   "cell_type": "markdown",
   "metadata": {},
   "source": [
    "* 输入通道和输出通道，输出通道是对于每一个输入通道，如果输入通道为3，输出通道为6。那么每一个输入通道有6个输出通道，有6个卷积核。\n",
    "\n",
    "https://blog.csdn.net/qq_32789231/article/details/103896996#:~:text=%E5%8D%B7%E7%A7%AF%E6%A0%B8%E6%95%B0%E4%B8%8E%E8%BE%93%E5%87%BA%E9%80%9A%E9%81%93%E6%95%B0%E6%98%AF%E7%9B%B8%E7%AD%89%E7%9A%84%EF%BC%8C%E4%B8%94%E5%8F%AF%E4%BB%A5%E8%87%AA%E5%AE%9A%E4%B9%89%EF%BC%8C%E5%8F%96%E5%86%B3%E4%BA%8E%E8%87%AA%E5%B7%B1%E7%9A%84%E5%AE%9E%E9%AA%8C%E8%AE%BE%E7%BD%AE%E3%80%82%20%E5%A6%82%E6%9E%9C%E4%B8%80%E4%B8%AA%E5%8D%B7%E7%A7%AF%E6%A0%B8%E4%BC%9A%E6%9C%89%E4%B8%89%E4%B8%AA%E9%80%9A%E9%81%93%EF%BC%8C%E6%AF%8F%E4%B8%AA%E5%8D%B7%E7%A7%AF%E6%A0%B8%E5%AF%B9%E4%B8%89%E4%B8%AA%E9%80%9A%E9%81%93%E7%9A%84%E5%9B%BE%E7%89%87%E5%8D%B7%E7%A7%AF%E7%84%B6%E5%90%8E%E7%9B%B8%E5%8A%A0%E5%BE%97%E5%88%B0%E4%B8%80%E4%B8%AAfeature,map%20%28%E6%AD%A4%E6%97%B6%E4%B8%BA%E4%B8%80%E4%B8%AA%E4%BA%8C%E7%BB%B4%E7%9F%A9%E9%98%B5%29%E3%80%82"
   ]
  }
 ],
 "metadata": {
  "kernelspec": {
   "display_name": "Python 3",
   "language": "python",
   "name": "python3"
  },
  "language_info": {
   "codemirror_mode": {
    "name": "ipython",
    "version": 3
   },
   "file_extension": ".py",
   "mimetype": "text/x-python",
   "name": "python",
   "nbconvert_exporter": "python",
   "pygments_lexer": "ipython3",
   "version": "3.11.2"
  },
  "orig_nbformat": 4
 },
 "nbformat": 4,
 "nbformat_minor": 2
}
